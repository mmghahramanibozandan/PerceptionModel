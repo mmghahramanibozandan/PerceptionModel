{
  "nbformat": 4,
  "nbformat_minor": 0,
  "metadata": {
    "colab": {
      "name": "Perception_Alg.ipynb",
      "provenance": [],
      "collapsed_sections": [
        "7jyWdK8WSSI7",
        "Ij_BmPG-SVEe",
        "rvhfW_FzSaSx",
        "haTo2IH7TmXn"
      ]
    },
    "kernelspec": {
      "name": "python3",
      "display_name": "Python 3"
    },
    "language_info": {
      "name": "python"
    }
  },
  "cells": [
    {
      "cell_type": "markdown",
      "metadata": {
        "id": "7jyWdK8WSSI7"
      },
      "source": [
        "#Imports"
      ]
    },
    {
      "cell_type": "code",
      "metadata": {
        "id": "DbsiwxBySTV1"
      },
      "source": [
        "import numpy as np\n",
        "import pandas as pd\n",
        "import matplotlib.pyplot as plt\n",
        "import seaborn as sns\n",
        "sns.set_theme()"
      ],
      "execution_count": 1,
      "outputs": []
    },
    {
      "cell_type": "markdown",
      "metadata": {
        "id": "Ij_BmPG-SVEe"
      },
      "source": [
        "#My Perception Model"
      ]
    },
    {
      "cell_type": "code",
      "metadata": {
        "id": "Xjr-zKCzAKxL"
      },
      "source": [
        "class My_Perception_Model:\n",
        "\n",
        "  def __init__(self):\n",
        "\n",
        "    pass\n",
        "\n",
        "  def forward(self, X, W):\n",
        "\n",
        "    \"\"\"\n",
        "    X : [1, x]\n",
        "    W : [b, w]\n",
        "    \"\"\"\n",
        "\n",
        "    summation = np.dot(W.T, X)\n",
        "\n",
        "    return np.sign(summation)\n",
        "\n",
        "  def backward(self, X, W, t, lr):\n",
        "\n",
        "    \"\"\"\n",
        "    t : y_real\n",
        "    lr : learning rate\n",
        "    \"\"\"\n",
        "\n",
        "    o = self.forward(X, W)\n",
        "\n",
        "    if o != t:\n",
        "\n",
        "      W = W + (lr * (t - o) * X)\n",
        "\n",
        "    return W\n",
        "\n",
        "  def fit(self, training_df, inp_cols, target_col, epochs, lr):\n",
        "\n",
        "    \"\"\"\n",
        "    epochs : number of iterations\n",
        "    lr : learning rate\n",
        "    \"\"\"\n",
        "\n",
        "    features, target = training_df[inp_cols], training_df[target_col]\n",
        "    self.W = np.random.random(len(features.columns) + 1)\n",
        "\n",
        "    for epoch in range(epochs):\n",
        "\n",
        "      for idx in range(len(training_df)):\n",
        "\n",
        "        new_sample = features.iloc[idx, :].to_numpy()\n",
        "        new_label = target[idx]        \n",
        "\n",
        "        X = np.append(1, new_sample)  # X = [1, x]        \n",
        "\n",
        "        self.W = self.backward(X, self.W, new_label, lr)\n",
        "        # Y = mX + h\n",
        "    self.slope = -self.W[1] / self.W[2]\n",
        "    self.intercept = -self.W[0] / self.W[2]\n",
        "\n",
        "    print(f\"The number of iteration: {epochs}\\nLearning rate: {lr}\\nb: {self.W[0]}\\nw1: {self.W[1]}\\nw2: {self.W[2]}\")\n",
        "\n",
        "  def predict(self, pre_sample):\n",
        "\n",
        "    X_pre = np.append(1, pre_sample) # X = [1, x]\n",
        "\n",
        "    return self.forward(X_pre, self.W)"
      ],
      "execution_count": 2,
      "outputs": []
    },
    {
      "cell_type": "markdown",
      "metadata": {
        "id": "rvhfW_FzSaSx"
      },
      "source": [
        "#Train the Model"
      ]
    },
    {
      "cell_type": "code",
      "metadata": {
        "colab": {
          "base_uri": "https://localhost:8080/",
          "height": 354
        },
        "id": "N1Q_eMSxEMoP",
        "outputId": "5b149d87-94fe-4dbd-e6a9-3bd29be69827"
      },
      "source": [
        "x = [i for i in range(1, 11)]\n",
        "y = [4, 1, 1.5, 5, 8, 6, 3, 1, 7.5, 0]\n",
        "target = [1, -1, -1, 1, 1, 1, -1, -1, 1, -1]\n",
        "\n",
        "training_data = pd.DataFrame(None)\n",
        "training_data[\"feature1\"] = x\n",
        "training_data[\"feature2\"] = y\n",
        "training_data[\"target\"] = target\n",
        "\n",
        "training_data"
      ],
      "execution_count": 3,
      "outputs": [
        {
          "output_type": "execute_result",
          "data": {
            "text/html": [
              "<div>\n",
              "<style scoped>\n",
              "    .dataframe tbody tr th:only-of-type {\n",
              "        vertical-align: middle;\n",
              "    }\n",
              "\n",
              "    .dataframe tbody tr th {\n",
              "        vertical-align: top;\n",
              "    }\n",
              "\n",
              "    .dataframe thead th {\n",
              "        text-align: right;\n",
              "    }\n",
              "</style>\n",
              "<table border=\"1\" class=\"dataframe\">\n",
              "  <thead>\n",
              "    <tr style=\"text-align: right;\">\n",
              "      <th></th>\n",
              "      <th>feature1</th>\n",
              "      <th>feature2</th>\n",
              "      <th>target</th>\n",
              "    </tr>\n",
              "  </thead>\n",
              "  <tbody>\n",
              "    <tr>\n",
              "      <th>0</th>\n",
              "      <td>1</td>\n",
              "      <td>4.0</td>\n",
              "      <td>1</td>\n",
              "    </tr>\n",
              "    <tr>\n",
              "      <th>1</th>\n",
              "      <td>2</td>\n",
              "      <td>1.0</td>\n",
              "      <td>-1</td>\n",
              "    </tr>\n",
              "    <tr>\n",
              "      <th>2</th>\n",
              "      <td>3</td>\n",
              "      <td>1.5</td>\n",
              "      <td>-1</td>\n",
              "    </tr>\n",
              "    <tr>\n",
              "      <th>3</th>\n",
              "      <td>4</td>\n",
              "      <td>5.0</td>\n",
              "      <td>1</td>\n",
              "    </tr>\n",
              "    <tr>\n",
              "      <th>4</th>\n",
              "      <td>5</td>\n",
              "      <td>8.0</td>\n",
              "      <td>1</td>\n",
              "    </tr>\n",
              "    <tr>\n",
              "      <th>5</th>\n",
              "      <td>6</td>\n",
              "      <td>6.0</td>\n",
              "      <td>1</td>\n",
              "    </tr>\n",
              "    <tr>\n",
              "      <th>6</th>\n",
              "      <td>7</td>\n",
              "      <td>3.0</td>\n",
              "      <td>-1</td>\n",
              "    </tr>\n",
              "    <tr>\n",
              "      <th>7</th>\n",
              "      <td>8</td>\n",
              "      <td>1.0</td>\n",
              "      <td>-1</td>\n",
              "    </tr>\n",
              "    <tr>\n",
              "      <th>8</th>\n",
              "      <td>9</td>\n",
              "      <td>7.5</td>\n",
              "      <td>1</td>\n",
              "    </tr>\n",
              "    <tr>\n",
              "      <th>9</th>\n",
              "      <td>10</td>\n",
              "      <td>0.0</td>\n",
              "      <td>-1</td>\n",
              "    </tr>\n",
              "  </tbody>\n",
              "</table>\n",
              "</div>"
            ],
            "text/plain": [
              "   feature1  feature2  target\n",
              "0         1       4.0       1\n",
              "1         2       1.0      -1\n",
              "2         3       1.5      -1\n",
              "3         4       5.0       1\n",
              "4         5       8.0       1\n",
              "5         6       6.0       1\n",
              "6         7       3.0      -1\n",
              "7         8       1.0      -1\n",
              "8         9       7.5       1\n",
              "9        10       0.0      -1"
            ]
          },
          "metadata": {},
          "execution_count": 3
        }
      ]
    },
    {
      "cell_type": "code",
      "metadata": {
        "colab": {
          "base_uri": "https://localhost:8080/",
          "height": 394
        },
        "id": "xz_2WQUkGfkD",
        "outputId": "09046289-06ea-4bb3-f321-6777d438264e"
      },
      "source": [
        "plt.figure(figsize=(11, 6))\n",
        "\n",
        "sns.scatterplot(data = training_data, x = \"feature1\", y = \"feature2\", hue = \"target\", palette = [\"red\", \"green\"], s = 40)\n",
        "plt.show()"
      ],
      "execution_count": 4,
      "outputs": [
        {
          "output_type": "display_data",
          "data": {
            "image/png": "[encoded data removed]",
            "text/plain": [
              "<Figure size 792x432 with 1 Axes>"
            ]
          },
          "metadata": {
            "needs_background": "light"
          }
        }
      ]
    },
    {
      "cell_type": "code",
      "metadata": {
        "colab": {
          "base_uri": "https://localhost:8080/"
        },
        "id": "VQ9YmibJ_uC8",
        "outputId": "30bd504b-c0a3-4c15-be8b-83c4c158a237"
      },
      "source": [
        "epochs = 5000\n",
        "lr = 0.005\n",
        "\n",
        "perc_model = My_Perception_Model()\n",
        "\n",
        "perc_model.fit(training_df = training_data, inp_cols = [\"feature1\", \"feature2\"], target_col = \"target\", epochs = epochs, lr = lr)"
      ],
      "execution_count": 17,
      "outputs": [
        {
          "output_type": "stream",
          "name": "stdout",
          "text": [
            "The number of iteration: 5000\n",
            "Learning rate: 0.005\n",
            "b: 0.031907277204309054\n",
            "w1: -0.11336880688535059\n",
            "w2: 0.1492468677593523\n"
          ]
        }
      ]
    },
    {
      "cell_type": "code",
      "metadata": {
        "colab": {
          "base_uri": "https://localhost:8080/",
          "height": 394
        },
        "id": "85gQ9wdSHjj_",
        "outputId": "c2fe3f65-8651-4388-f75f-629c42d61d38"
      },
      "source": [
        "plt.figure(figsize=(11, 6))\n",
        "\n",
        "m = perc_model.slope\n",
        "h = perc_model.intercept\n",
        "\n",
        "training_data['f_pred'] = m * training_data[\"feature1\"] + h\n",
        "\n",
        "sns.scatterplot(data = training_data, x = \"feature1\", y = \"feature2\", hue = \"target\", palette = [\"red\", \"green\"], s = 40)\n",
        "sns.lineplot(data = training_data, x = \"feature1\", y = \"f_pred\")\n",
        "\n",
        "plt.show()\n",
        "#It is working pretty well :)))"
      ],
      "execution_count": 18,
      "outputs": [
        {
          "output_type": "display_data",
          "data": {
            "image/png": "[encoded data removed]",
            "text/plain": [
              "<Figure size 792x432 with 1 Axes>"
            ]
          },
          "metadata": {
            "needs_background": "light"
          }
        }
      ]
    },
    {
      "cell_type": "markdown",
      "metadata": {
        "id": "haTo2IH7TmXn"
      },
      "source": [
        "#Predict the Unseen Data"
      ]
    },
    {
      "cell_type": "code",
      "metadata": {
        "colab": {
          "base_uri": "https://localhost:8080/"
        },
        "id": "BVnZklOQTKtk",
        "outputId": "3b538b3c-ad6f-4f35-e718-f269b379c422"
      },
      "source": [
        "unseen_data = np.array([6.5, 2])\n",
        "\n",
        "perc_model.predict(unseen_data)\n",
        "#As it is expected"
      ],
      "execution_count": 19,
      "outputs": [
        {
          "output_type": "execute_result",
          "data": {
            "text/plain": [
              "-1.0"
            ]
          },
          "metadata": {},
          "execution_count": 19
        }
      ]
    },
    {
      "cell_type": "code",
      "metadata": {
        "colab": {
          "base_uri": "https://localhost:8080/"
        },
        "id": "M-0v7b57Tr7I",
        "outputId": "4e94752c-a14e-48f4-b63a-6621b94cfeec"
      },
      "source": [
        "unseen_data = np.array([6.5, 7])\n",
        "\n",
        "perc_model.predict(unseen_data)\n",
        "#As it is expected"
      ],
      "execution_count": 20,
      "outputs": [
        {
          "output_type": "execute_result",
          "data": {
            "text/plain": [
              "1.0"
            ]
          },
          "metadata": {},
          "execution_count": 20
        }
      ]
    },
    {
      "cell_type": "code",
      "metadata": {
        "colab": {
          "base_uri": "https://localhost:8080/"
        },
        "id": "jY1OUI0cUDab",
        "outputId": "efe28bda-4847-47c6-de9f-55d7837ffd0a"
      },
      "source": [
        "unseen_data = np.array([11, 7])\n",
        "\n",
        "perc_model.predict(unseen_data)\n",
        "#As it is expected"
      ],
      "execution_count": 21,
      "outputs": [
        {
          "output_type": "execute_result",
          "data": {
            "text/plain": [
              "-1.0"
            ]
          },
          "metadata": {},
          "execution_count": 21
        }
      ]
    },
    {
      "cell_type": "code",
      "metadata": {
        "colab": {
          "base_uri": "https://localhost:8080/"
        },
        "id": "dLOkQwRvUG8G",
        "outputId": "fa537e85-3ef2-468f-8c81-d99acb484386"
      },
      "source": [
        "unseen_data = np.array([11, 11])\n",
        "\n",
        "perc_model.predict(unseen_data)\n",
        "#As it is expected"
      ],
      "execution_count": 22,
      "outputs": [
        {
          "output_type": "execute_result",
          "data": {
            "text/plain": [
              "1.0"
            ]
          },
          "metadata": {},
          "execution_count": 22
        }
      ]
    }
  ]
}